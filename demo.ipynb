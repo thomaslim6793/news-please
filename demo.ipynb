{
 "cells": [
  {
   "cell_type": "code",
   "execution_count": 1,
   "metadata": {},
   "outputs": [],
   "source": [
    "sample_urls = ['https://www.cnn.com/europe/live-news/ukraine-russia-putin-news-03-01-22/h_b240885f0c2a4526709eb26e5340b6d0',\n",
    " 'https://www.nytimes.com/2022/03/06/briefing/your-monday-briefing-russian-forces-attack-evacuees.html',\n",
    " 'https://www.theguardian.com/world/2023/mar/01/finland-starts-building-fence-on-russian-border-as-mps-prepare-to-vote-on-nato-bid',\n",
    " 'https://www.newsweek.com/russia-run-out-iranian-shahed-136-drones-uk-1783805',\n",
    " 'https://www.nytimes.com/2022/03/15/business/coal-prices-rise-to-record-levels-on-russia-supply-fears.html',\n",
    " 'https://www.theguardian.com/world/2022/oct/08/impact-of-kerch-bridge-blast-will-be-felt-all-the-way-to-the-kremlin',\n",
    " 'https://www.theguardian.com/world/video/2022/mar/15/i-offer-you-a-chance-to-survive-zelenskiy-urges-russian-troops-to-surrender-video',\n",
    " 'https://www.theguardian.com/world/2022/jul/13/joe-biden-arrives-in-middle-east-at-time-of-rapid-change',\n",
    " 'https://www.theguardian.com/world/2022/oct/27/kyiv-facing-sharp-deterioration-electric-supply-russian-strikes',\n",
    " 'https://www.cnn.com/2022/03/13/politics/biden-climate-agenda-activists/index.html',\n",
    " 'https://www.newsweek.com/good-samaritan-stops-overflowing-tank-viral-gas-station-fail-sad-1700247',\n",
    " 'https://www.theguardian.com/technology/2023/apr/19/russian-hackers-want-to-disrupt-or-destroy-uk-infrastructure-minister-warns',\n",
    " 'https://www.theguardian.com/world/2023/mar/14/body-collectors-ukrainian-volunteers-search-russian-corpses-black-tulip',\n",
    " 'https://www.wsj.com/articles/russia-sees-gold-in-ukraine-nuclear-plants-chernobyl-reactor-fuel-waste-disposal-11646946568',\n",
    " 'https://www.nbcnews.com/tech/internet/russia-nearly-isolated-online-mean-internets-future-rcna19389',\n",
    " 'https://www.newsweek.com/crimea-traffic-jam-explosion-air-base-russia-ukraine-1732845',\n",
    " 'https://www.foxnews.com/media/kirby-says-us-war-russia-putins-nuclear-threat-nothing-farther-truth',\n",
    " 'https://www.cbsnews.com/news/mikhail-baryshnikov-on-the-orchard-and-putins-war/',\n",
    " 'https://www.wsj.com/livecoverage/russia-ukraine-latest-news/card/kqfqW5CRCtzEmruqHdLy',\n",
    " 'https://www.newsweek.com/russia-ukraine-surovikin-putin-1809761']"
   ]
  },
  {
   "cell_type": "code",
   "execution_count": 2,
   "metadata": {},
   "outputs": [
    {
     "name": "stderr",
     "output_type": "stream",
     "text": [
      "/Users/thomaslim/miniconda3/envs/aijournalism/lib/python3.11/site-packages/pandas/core/arrays/masked.py:60: UserWarning: Pandas requires version '1.3.6' or newer of 'bottleneck' (version '1.3.5' currently installed).\n",
      "  from pandas.core import (\n",
      "connection/timeout error: https://www.newsweek.com/good-samaritan-stops-overflowing-tank-viral-gas-station-fail-sad-1700247 HTTPSConnectionPool(host='www.newsweek.com', port=443): Max retries exceeded with url: /good-samaritan-stops-overflowing-tank-viral-gas-station-fail-sad-1700247 (Caused by NameResolutionError(\"<urllib3.connection.HTTPSConnection object at 0x156fe6310>: Failed to resolve 'www.newsweek.com' ([Errno 8] nodename nor servname provided, or not known)\"))\n",
      "not a 200 response: 403\n",
      "not a 200 response: 401\n",
      "not a 200 response: 403\n",
      "not a 200 response: 401\n",
      "/Users/thomaslim/miniconda3/envs/aijournalism/lib/python3.11/site-packages/pandas/core/arrays/masked.py:60: UserWarning: Pandas requires version '1.3.6' or newer of 'bottleneck' (version '1.3.5' currently installed).\n",
      "  from pandas.core import (\n",
      "/Users/thomaslim/miniconda3/envs/aijournalism/lib/python3.11/site-packages/pandas/core/arrays/masked.py:60: UserWarning: Pandas requires version '1.3.6' or newer of 'bottleneck' (version '1.3.5' currently installed).\n",
      "  from pandas.core import (\n",
      "/Users/thomaslim/miniconda3/envs/aijournalism/lib/python3.11/site-packages/pandas/core/arrays/masked.py:60: UserWarning: Pandas requires version '1.3.6' or newer of 'bottleneck' (version '1.3.5' currently installed).\n",
      "  from pandas.core import (\n",
      "/Users/thomaslim/miniconda3/envs/aijournalism/lib/python3.11/site-packages/pandas/core/arrays/masked.py:60: UserWarning: Pandas requires version '1.3.6' or newer of 'bottleneck' (version '1.3.5' currently installed).\n",
      "  from pandas.core import (\n",
      "/Users/thomaslim/miniconda3/envs/aijournalism/lib/python3.11/site-packages/pandas/core/arrays/masked.py:60: UserWarning: Pandas requires version '1.3.6' or newer of 'bottleneck' (version '1.3.5' currently installed).\n",
      "  from pandas.core import (\n",
      "/Users/thomaslim/miniconda3/envs/aijournalism/lib/python3.11/site-packages/pandas/core/arrays/masked.py:60: UserWarning: Pandas requires version '1.3.6' or newer of 'bottleneck' (version '1.3.5' currently installed).\n",
      "  from pandas.core import (\n",
      "/Users/thomaslim/miniconda3/envs/aijournalism/lib/python3.11/site-packages/pandas/core/arrays/masked.py:60: UserWarning: Pandas requires version '1.3.6' or newer of 'bottleneck' (version '1.3.5' currently installed).\n",
      "  from pandas.core import (\n",
      "/Users/thomaslim/miniconda3/envs/aijournalism/lib/python3.11/site-packages/pandas/core/arrays/masked.py:60: UserWarning: Pandas requires version '1.3.6' or newer of 'bottleneck' (version '1.3.5' currently installed).\n",
      "  from pandas.core import (\n"
     ]
    }
   ],
   "source": [
    "from newsplease import NewsPlease\n",
    "\n",
    "articles = NewsPlease.from_urls(sample_urls, request_args={\"timeout\": 10})"
   ]
  },
  {
   "cell_type": "code",
   "execution_count": 3,
   "metadata": {},
   "outputs": [
    {
     "data": {
      "text/plain": [
       "NewsArticle.NewsArticle"
      ]
     },
     "execution_count": 3,
     "metadata": {},
     "output_type": "execute_result"
    }
   ],
   "source": [
    "from NewsArticle import NewsArticle\n",
    "NewsArticle"
   ]
  },
  {
   "cell_type": "code",
   "execution_count": 4,
   "metadata": {},
   "outputs": [
    {
     "name": "stdout",
     "output_type": "stream",
     "text": [
      "No valid article found for URL: https://www.newsweek.com/good-samaritan-stops-overflowing-tank-viral-gas-station-fail-sad-1700247\n",
      "No valid article found for URL: https://www.nytimes.com/2022/03/06/briefing/your-monday-briefing-russian-forces-attack-evacuees.html\n",
      "No valid article found for URL: https://www.wsj.com/livecoverage/russia-ukraine-latest-news/card/kqfqW5CRCtzEmruqHdLy\n",
      "No valid article found for URL: https://www.nytimes.com/2022/03/15/business/coal-prices-rise-to-record-levels-on-russia-supply-fears.html\n",
      "No valid article found for URL: https://www.wsj.com/articles/russia-sees-gold-in-ukraine-nuclear-plants-chernobyl-reactor-fuel-waste-disposal-11646946568\n"
     ]
    }
   ],
   "source": [
    "import pandas as pd\n",
    "\n",
    "# List to store the dictionaries of articles\n",
    "article_dicts = []\n",
    "\n",
    "# Iterate over the articles dictionary and convert each NewsArticle object to a dict\n",
    "for url, article in articles.items():\n",
    "    if isinstance(article, NewsArticle):  # Check if it's a valid NewsArticle object\n",
    "        article_dict = article.get_serializable_dict()  # Convert to dictionary\n",
    "        article_dict['url'] = url  # Add the URL to the dictionary\n",
    "        article_dicts.append(article_dict)  # Append the dictionary to the list\n",
    "    else:\n",
    "        print(f\"No valid article found for URL: {url}\")\n",
    "\n",
    "# Convert the list of article dictionaries to a DataFrame\n",
    "df = pd.DataFrame(article_dicts)"
   ]
  },
  {
   "cell_type": "code",
   "execution_count": null,
   "metadata": {},
   "outputs": [],
   "source": []
  },
  {
   "cell_type": "code",
   "execution_count": null,
   "metadata": {},
   "outputs": [],
   "source": []
  }
 ],
 "metadata": {
  "kernelspec": {
   "display_name": "aijournalism",
   "language": "python",
   "name": "python3"
  },
  "language_info": {
   "codemirror_mode": {
    "name": "ipython",
    "version": 3
   },
   "file_extension": ".py",
   "mimetype": "text/x-python",
   "name": "python",
   "nbconvert_exporter": "python",
   "pygments_lexer": "ipython3",
   "version": "3.11.7"
  }
 },
 "nbformat": 4,
 "nbformat_minor": 2
}
